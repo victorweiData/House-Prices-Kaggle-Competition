{
 "cells": [
  {
   "cell_type": "markdown",
   "metadata": {},
   "source": [
    "# Section A"
   ]
  },
  {
   "cell_type": "code",
   "execution_count": 1,
   "metadata": {},
   "outputs": [
    {
     "data": {
      "text/html": [
       "<div>\n",
       "<style scoped>\n",
       "    .dataframe tbody tr th:only-of-type {\n",
       "        vertical-align: middle;\n",
       "    }\n",
       "\n",
       "    .dataframe tbody tr th {\n",
       "        vertical-align: top;\n",
       "    }\n",
       "\n",
       "    .dataframe thead th {\n",
       "        text-align: right;\n",
       "    }\n",
       "</style>\n",
       "<table border=\"1\" class=\"dataframe\">\n",
       "  <thead>\n",
       "    <tr style=\"text-align: right;\">\n",
       "      <th></th>\n",
       "      <th>train_shape</th>\n",
       "      <th>test_shape</th>\n",
       "    </tr>\n",
       "  </thead>\n",
       "  <tbody>\n",
       "    <tr>\n",
       "      <th>0</th>\n",
       "      <td>(1458, 83)</td>\n",
       "      <td>(1459, 83)</td>\n",
       "    </tr>\n",
       "  </tbody>\n",
       "</table>\n",
       "</div>"
      ],
      "text/plain": [
       "  train_shape  test_shape\n",
       "0  (1458, 83)  (1459, 83)"
      ]
     },
     "execution_count": 1,
     "metadata": {},
     "output_type": "execute_result"
    }
   ],
   "source": [
    "# 1) Setup & load canonical cleaned data + metadata\n",
    "import pandas as pd\n",
    "import numpy as np\n",
    "from pathlib import Path\n",
    "import json\n",
    "import warnings\n",
    "warnings.filterwarnings(\"ignore\")\n",
    "\n",
    "DATA_DIR = Path(\"../data/\")\n",
    "PROCESSED_DIR = DATA_DIR / \"processed\"\n",
    "\n",
    "# adjust if you used _v02 in EDA; keeping v01 as default\n",
    "df_train = pd.read_parquet(PROCESSED_DIR / \"hp_train_clean_v01.parquet\")\n",
    "df_test  = pd.read_parquet(PROCESSED_DIR / \"hp_test_clean_v01.parquet\")\n",
    "\n",
    "with open(PROCESSED_DIR / \"hp_clean_meta_v01.json\", \"r\") as f:\n",
    "    meta = json.load(f)\n",
    "\n",
    "# working copies\n",
    "df_tr = df_train.copy()\n",
    "df_te = df_test.copy()\n",
    "\n",
    "# keep a running list of engineered columns\n",
    "fe_cols = []\n",
    "(pd.DataFrame({\"train_shape\":[df_tr.shape], \"test_shape\":[df_te.shape]}))"
   ]
  },
  {
   "cell_type": "code",
   "execution_count": 2,
   "metadata": {},
   "outputs": [
    {
     "data": {
      "text/html": [
       "<div>\n",
       "<style scoped>\n",
       "    .dataframe tbody tr th:only-of-type {\n",
       "        vertical-align: middle;\n",
       "    }\n",
       "\n",
       "    .dataframe tbody tr th {\n",
       "        vertical-align: top;\n",
       "    }\n",
       "\n",
       "    .dataframe thead th {\n",
       "        text-align: right;\n",
       "    }\n",
       "</style>\n",
       "<table border=\"1\" class=\"dataframe\">\n",
       "  <thead>\n",
       "    <tr style=\"text-align: right;\">\n",
       "      <th></th>\n",
       "      <th>added_structural</th>\n",
       "    </tr>\n",
       "  </thead>\n",
       "  <tbody>\n",
       "    <tr>\n",
       "      <th>0</th>\n",
       "      <td>[fe_TotalSF, fe_TotalPorchSF, fe_TotalBaths, f...</td>\n",
       "    </tr>\n",
       "  </tbody>\n",
       "</table>\n",
       "</div>"
      ],
      "text/plain": [
       "                                    added_structural\n",
       "0  [fe_TotalSF, fe_TotalPorchSF, fe_TotalBaths, f..."
      ]
     },
     "execution_count": 2,
     "metadata": {},
     "output_type": "execute_result"
    }
   ],
   "source": [
    "# 2) Structural size & composition\n",
    "df_tr[\"fe_TotalSF\"] = df_tr[\"1stFlrSF\"] + df_tr[\"2ndFlrSF\"] + df_tr[\"TotalBsmtSF\"]\n",
    "df_te[\"fe_TotalSF\"] = df_te[\"1stFlrSF\"] + df_te[\"2ndFlrSF\"] + df_te[\"TotalBsmtSF\"]\n",
    "\n",
    "df_tr[\"fe_TotalPorchSF\"] = df_tr[\"OpenPorchSF\"] + df_tr[\"EnclosedPorch\"] + df_tr[\"3SsnPorch\"] + df_tr[\"ScreenPorch\"]\n",
    "df_te[\"fe_TotalPorchSF\"] = df_te[\"OpenPorchSF\"] + df_te[\"EnclosedPorch\"] + df_te[\"3SsnPorch\"] + df_te[\"ScreenPorch\"]\n",
    "\n",
    "df_tr[\"fe_TotalBaths\"] = (df_tr[\"FullBath\"] + 0.5*df_tr[\"HalfBath\"] + df_tr[\"BsmtFullBath\"] + 0.5*df_tr[\"BsmtHalfBath\"])\n",
    "df_te[\"fe_TotalBaths\"] = (df_te[\"FullBath\"] + 0.5*df_te[\"HalfBath\"] + df_te[\"BsmtFullBath\"] + 0.5*df_te[\"BsmtHalfBath\"])\n",
    "\n",
    "# ratios / densities (protect divides)\n",
    "df_tr[\"fe_AboveVsBasement\"] = df_tr[\"GrLivArea\"] / (df_tr[\"TotalBsmtSF\"] + 1.0)\n",
    "df_te[\"fe_AboveVsBasement\"] = df_te[\"GrLivArea\"] / (df_te[\"TotalBsmtSF\"] + 1.0)\n",
    "\n",
    "df_tr[\"fe_FirstVsSecond\"] = df_tr[\"1stFlrSF\"] / (df_tr[\"2ndFlrSF\"] + 1.0)\n",
    "df_te[\"fe_FirstVsSecond\"] = df_te[\"1stFlrSF\"] / (df_te[\"2ndFlrSF\"] + 1.0)\n",
    "\n",
    "df_tr[\"fe_GarageCarsPer100SF\"] = df_tr[\"GarageCars\"] / (df_tr[\"GarageArea\"]/100.0 + 1.0)\n",
    "df_te[\"fe_GarageCarsPer100SF\"] = df_te[\"GarageCars\"] / (df_te[\"GarageArea\"]/100.0 + 1.0)\n",
    "\n",
    "new_cols = [\"fe_TotalSF\",\"fe_TotalPorchSF\",\"fe_TotalBaths\",\"fe_AboveVsBasement\",\"fe_FirstVsSecond\",\"fe_GarageCarsPer100SF\"]\n",
    "fe_cols += new_cols\n",
    "pd.DataFrame({\"added_structural\": [new_cols]})"
   ]
  },
  {
   "cell_type": "code",
   "execution_count": 3,
   "metadata": {},
   "outputs": [
    {
     "data": {
      "text/html": [
       "<div>\n",
       "<style scoped>\n",
       "    .dataframe tbody tr th:only-of-type {\n",
       "        vertical-align: middle;\n",
       "    }\n",
       "\n",
       "    .dataframe tbody tr th {\n",
       "        vertical-align: top;\n",
       "    }\n",
       "\n",
       "    .dataframe thead th {\n",
       "        text-align: right;\n",
       "    }\n",
       "</style>\n",
       "<table border=\"1\" class=\"dataframe\">\n",
       "  <thead>\n",
       "    <tr style=\"text-align: right;\">\n",
       "      <th></th>\n",
       "      <th>added_temporal</th>\n",
       "    </tr>\n",
       "  </thead>\n",
       "  <tbody>\n",
       "    <tr>\n",
       "      <th>0</th>\n",
       "      <td>[fe_AgeAtSale, fe_YearsSinceRemod, fe_GarageAg...</td>\n",
       "    </tr>\n",
       "  </tbody>\n",
       "</table>\n",
       "</div>"
      ],
      "text/plain": [
       "                                      added_temporal\n",
       "0  [fe_AgeAtSale, fe_YearsSinceRemod, fe_GarageAg..."
      ]
     },
     "execution_count": 3,
     "metadata": {},
     "output_type": "execute_result"
    }
   ],
   "source": [
    "# 3) Age & temporal features (clip at >= 0); Season categorical\n",
    "df_tr[\"fe_AgeAtSale\"] = (df_tr[\"YrSold\"] - df_tr[\"YearBuilt\"]).clip(lower=0)\n",
    "df_te[\"fe_AgeAtSale\"] = (df_te[\"YrSold\"] - df_te[\"YearBuilt\"]).clip(lower=0)\n",
    "\n",
    "df_tr[\"fe_YearsSinceRemod\"] = (df_tr[\"YrSold\"] - df_tr[\"YearRemodAdd\"]).clip(lower=0)\n",
    "df_te[\"fe_YearsSinceRemod\"] = (df_te[\"YrSold\"] - df_te[\"YearRemodAdd\"]).clip(lower=0)\n",
    "\n",
    "# garage age: if no garage, treat as 0\n",
    "df_tr[\"fe_GarageAgeAtSale\"] = np.where(df_tr[\"GarageCars\"]>0, (df_tr[\"YrSold\"] - df_tr[\"GarageYrBlt\"]).clip(lower=0), 0)\n",
    "df_te[\"fe_GarageAgeAtSale\"] = np.where(df_te[\"GarageCars\"]>0, (df_te[\"YrSold\"] - df_te[\"GarageYrBlt\"]).clip(lower=0), 0)\n",
    "\n",
    "# seasons from MoSold (keep MoSold_sin/cos from EDA as-is)\n",
    "def _season(m):\n",
    "    if m in [12,1,2]: return \"Winter\"\n",
    "    if m in [3,4,5]:  return \"Spring\"\n",
    "    if m in [6,7,8]:  return \"Summer\"\n",
    "    return \"Fall\"\n",
    "df_tr[\"comb_Season\"] = pd.Categorical([_season(int(m)) for m in pd.to_numeric(df_tr[\"MoSold\"], errors=\"coerce\")], categories=[\"Winter\",\"Spring\",\"Summer\",\"Fall\"])\n",
    "df_te[\"comb_Season\"] = pd.Categorical([_season(int(m)) for m in pd.to_numeric(df_te[\"MoSold\"], errors=\"coerce\")], categories=[\"Winter\",\"Spring\",\"Summer\",\"Fall\"])\n",
    "\n",
    "new_cols = [\"fe_AgeAtSale\",\"fe_YearsSinceRemod\",\"fe_GarageAgeAtSale\",\"comb_Season\"]\n",
    "fe_cols += new_cols\n",
    "pd.DataFrame({\"added_temporal\": [new_cols]})"
   ]
  },
  {
   "cell_type": "code",
   "execution_count": 4,
   "metadata": {},
   "outputs": [
    {
     "data": {
      "text/html": [
       "<div>\n",
       "<style scoped>\n",
       "    .dataframe tbody tr th:only-of-type {\n",
       "        vertical-align: middle;\n",
       "    }\n",
       "\n",
       "    .dataframe tbody tr th {\n",
       "        vertical-align: top;\n",
       "    }\n",
       "\n",
       "    .dataframe thead th {\n",
       "        text-align: right;\n",
       "    }\n",
       "</style>\n",
       "<table border=\"1\" class=\"dataframe\">\n",
       "  <thead>\n",
       "    <tr style=\"text-align: right;\">\n",
       "      <th></th>\n",
       "      <th>added_flags</th>\n",
       "    </tr>\n",
       "  </thead>\n",
       "  <tbody>\n",
       "    <tr>\n",
       "      <th>0</th>\n",
       "      <td>[bin_HasPool, bin_Has2ndFlr, bin_HasBasement, ...</td>\n",
       "    </tr>\n",
       "  </tbody>\n",
       "</table>\n",
       "</div>"
      ],
      "text/plain": [
       "                                         added_flags\n",
       "0  [bin_HasPool, bin_Has2ndFlr, bin_HasBasement, ..."
      ]
     },
     "execution_count": 4,
     "metadata": {},
     "output_type": "execute_result"
    }
   ],
   "source": [
    "# 4) Amenity presence flags (binary int)\n",
    "df_tr[\"bin_HasPool\"] = (df_tr[\"PoolArea\"] > 0).astype(int)\n",
    "df_te[\"bin_HasPool\"] = (df_te[\"PoolArea\"] > 0).astype(int)\n",
    "\n",
    "df_tr[\"bin_Has2ndFlr\"] = (df_tr[\"2ndFlrSF\"] > 0).astype(int)\n",
    "df_te[\"bin_Has2ndFlr\"] = (df_te[\"2ndFlrSF\"] > 0).astype(int)\n",
    "\n",
    "df_tr[\"bin_HasBasement\"] = (df_tr[\"TotalBsmtSF\"] > 0).astype(int)\n",
    "df_te[\"bin_HasBasement\"] = (df_te[\"TotalBsmtSF\"] > 0).astype(int)\n",
    "\n",
    "df_tr[\"bin_HasPorch\"] = (df_tr[\"fe_TotalPorchSF\"] > 0).astype(int)\n",
    "df_te[\"bin_HasPorch\"] = (df_te[\"fe_TotalPorchSF\"] > 0).astype(int)\n",
    "\n",
    "df_tr[\"bin_HasDeck\"] = (df_tr[\"WoodDeckSF\"] > 0).astype(int)\n",
    "df_te[\"bin_HasDeck\"] = (df_te[\"WoodDeckSF\"] > 0).astype(int)\n",
    "\n",
    "df_tr[\"bin_HasFireplace\"] = (df_tr[\"Fireplaces\"] > 0).astype(int)\n",
    "df_te[\"bin_HasFireplace\"] = (df_te[\"Fireplaces\"] > 0).astype(int)\n",
    "\n",
    "df_tr[\"bin_HasGarage\"] = (df_tr[\"GarageCars\"] > 0).astype(int)\n",
    "df_te[\"bin_HasGarage\"] = (df_te[\"GarageCars\"] > 0).astype(int)\n",
    "\n",
    "new_cols = [\"bin_HasPool\",\"bin_Has2ndFlr\",\"bin_HasBasement\",\"bin_HasPorch\",\"bin_HasDeck\",\"bin_HasFireplace\",\"bin_HasGarage\"]\n",
    "fe_cols += new_cols\n",
    "pd.DataFrame({\"added_flags\": [new_cols]})"
   ]
  },
  {
   "cell_type": "code",
   "execution_count": 5,
   "metadata": {},
   "outputs": [
    {
     "data": {
      "text/html": [
       "<div>\n",
       "<style scoped>\n",
       "    .dataframe tbody tr th:only-of-type {\n",
       "        vertical-align: middle;\n",
       "    }\n",
       "\n",
       "    .dataframe tbody tr th {\n",
       "        vertical-align: top;\n",
       "    }\n",
       "\n",
       "    .dataframe thead th {\n",
       "        text-align: right;\n",
       "    }\n",
       "</style>\n",
       "<table border=\"1\" class=\"dataframe\">\n",
       "  <thead>\n",
       "    <tr style=\"text-align: right;\">\n",
       "      <th></th>\n",
       "      <th>added_quality</th>\n",
       "    </tr>\n",
       "  </thead>\n",
       "  <tbody>\n",
       "    <tr>\n",
       "      <th>0</th>\n",
       "      <td>[fe_OverallGrade, fe_ExteriorGrade, fe_Basemen...</td>\n",
       "    </tr>\n",
       "  </tbody>\n",
       "</table>\n",
       "</div>"
      ],
      "text/plain": [
       "                                       added_quality\n",
       "0  [fe_OverallGrade, fe_ExteriorGrade, fe_Basemen..."
      ]
     },
     "execution_count": 5,
     "metadata": {},
     "output_type": "execute_result"
    }
   ],
   "source": [
    "# 5) Quality/condition composites (keep parts too)\n",
    "df_tr[\"fe_OverallGrade\"]  = 2*df_tr[\"OverallQual\"] + df_tr[\"OverallCond\"]\n",
    "df_te[\"fe_OverallGrade\"]  = 2*df_te[\"OverallQual\"] + df_te[\"OverallCond\"]\n",
    "\n",
    "df_tr[\"fe_ExteriorGrade\"] = df_tr[\"ExterQual\"] + df_tr[\"ExterCond\"]\n",
    "df_te[\"fe_ExteriorGrade\"] = df_te[\"ExterQual\"] + df_te[\"ExterCond\"]\n",
    "\n",
    "df_tr[\"fe_BasementGrade\"] = df_tr[\"BsmtQual\"] + df_tr[\"BsmtCond\"] + df_tr[\"BsmtExposure\"]\n",
    "df_te[\"fe_BasementGrade\"] = df_te[\"BsmtQual\"] + df_te[\"BsmtCond\"] + df_te[\"BsmtExposure\"]\n",
    "\n",
    "df_tr[\"fe_GarageGrade\"]   = df_tr[\"GarageQual\"] + df_tr[\"GarageCond\"]\n",
    "df_te[\"fe_GarageGrade\"]   = df_te[\"GarageQual\"] + df_te[\"GarageCond\"]\n",
    "\n",
    "# (optional) kitchen composite — keep it simple with KitchenQual only or include count\n",
    "df_tr[\"fe_KitchenGrade\"]  = df_tr[\"KitchenQual\"]\n",
    "df_te[\"fe_KitchenGrade\"]  = df_te[\"KitchenQual\"]\n",
    "\n",
    "new_cols = [\"fe_OverallGrade\",\"fe_ExteriorGrade\",\"fe_BasementGrade\",\"fe_GarageGrade\",\"fe_KitchenGrade\"]\n",
    "fe_cols += new_cols\n",
    "pd.DataFrame({\"added_quality\": [new_cols]})"
   ]
  },
  {
   "cell_type": "code",
   "execution_count": 6,
   "metadata": {},
   "outputs": [
    {
     "data": {
      "text/html": [
       "<div>\n",
       "<style scoped>\n",
       "    .dataframe tbody tr th:only-of-type {\n",
       "        vertical-align: middle;\n",
       "    }\n",
       "\n",
       "    .dataframe tbody tr th {\n",
       "        vertical-align: top;\n",
       "    }\n",
       "\n",
       "    .dataframe thead th {\n",
       "        text-align: right;\n",
       "    }\n",
       "</style>\n",
       "<table border=\"1\" class=\"dataframe\">\n",
       "  <thead>\n",
       "    <tr style=\"text-align: right;\">\n",
       "      <th></th>\n",
       "      <th>added_location_materials</th>\n",
       "    </tr>\n",
       "  </thead>\n",
       "  <tbody>\n",
       "    <tr>\n",
       "      <th>0</th>\n",
       "      <td>[bin_NearArtery, bin_NearRR, bin_NearPositive,...</td>\n",
       "    </tr>\n",
       "  </tbody>\n",
       "</table>\n",
       "</div>"
      ],
      "text/plain": [
       "                            added_location_materials\n",
       "0  [bin_NearArtery, bin_NearRR, bin_NearPositive,..."
      ]
     },
     "execution_count": 6,
     "metadata": {},
     "output_type": "execute_result"
    }
   ],
   "source": [
    "# 6) Condition proximity flags + exterior combination (order-invariant)\n",
    "# flags from Condition1/2\n",
    "def _is_artery(x): return x in {\"Artery\",\"Feedr\"}\n",
    "def _is_rr(x):     return x in {\"RRNn\",\"RRAn\",\"RRNe\",\"RRAe\"}\n",
    "def _is_pos(x):    return x in {\"PosN\",\"PosA\"}\n",
    "\n",
    "for df in (df_tr, df_te):\n",
    "    df[\"bin_NearArtery\"] = (df[\"Condition1\"].apply(_is_artery) | df[\"Condition2\"].apply(_is_artery)).astype(int)\n",
    "    df[\"bin_NearRR\"]     = (df[\"Condition1\"].apply(_is_rr)     | df[\"Condition2\"].apply(_is_rr)).astype(int)\n",
    "    df[\"bin_NearPositive\"]= (df[\"Condition1\"].apply(_is_pos)   | df[\"Condition2\"].apply(_is_pos)).astype(int)\n",
    "\n",
    "# exterior set\n",
    "def _ext_set(row):\n",
    "    a = str(row[\"Exterior1st\"])\n",
    "    b = str(row[\"Exterior2nd\"])\n",
    "    return \"+\".join(sorted([a, b]))\n",
    "df_tr[\"comb_ExteriorSet\"] = pd.Categorical(df_tr.apply(_ext_set, axis=1))\n",
    "df_te[\"comb_ExteriorSet\"] = pd.Categorical(df_te.apply(_ext_set, axis=1))\n",
    "\n",
    "new_cols = [\"bin_NearArtery\",\"bin_NearRR\",\"bin_NearPositive\",\"comb_ExteriorSet\"]\n",
    "fe_cols += new_cols\n",
    "pd.DataFrame({\"added_location_materials\": [new_cols]})"
   ]
  },
  {
   "cell_type": "code",
   "execution_count": 7,
   "metadata": {},
   "outputs": [
    {
     "data": {
      "text/html": [
       "<div>\n",
       "<style scoped>\n",
       "    .dataframe tbody tr th:only-of-type {\n",
       "        vertical-align: middle;\n",
       "    }\n",
       "\n",
       "    .dataframe tbody tr th {\n",
       "        vertical-align: top;\n",
       "    }\n",
       "\n",
       "    .dataframe thead th {\n",
       "        text-align: right;\n",
       "    }\n",
       "</style>\n",
       "<table border=\"1\" class=\"dataframe\">\n",
       "  <thead>\n",
       "    <tr style=\"text-align: right;\">\n",
       "      <th></th>\n",
       "      <th>added_nbhd_medians</th>\n",
       "    </tr>\n",
       "  </thead>\n",
       "  <tbody>\n",
       "    <tr>\n",
       "      <th>0</th>\n",
       "      <td>[fe_NbhdMed_LotArea, fe_NbhdMed_YearBuilt, fe_...</td>\n",
       "    </tr>\n",
       "  </tbody>\n",
       "</table>\n",
       "</div>"
      ],
      "text/plain": [
       "                                  added_nbhd_medians\n",
       "0  [fe_NbhdMed_LotArea, fe_NbhdMed_YearBuilt, fe_..."
      ]
     },
     "execution_count": 7,
     "metadata": {},
     "output_type": "execute_result"
    }
   ],
   "source": [
    "# 7) Neighborhood feature-only aggregates (train-only medians; mapped to both)\n",
    "nbhd_cols = [\"LotArea\", \"YearBuilt\", \"GrLivArea\"]\n",
    "if \"fe_TotalSF\" in df_tr.columns:\n",
    "    nbhd_cols.append(\"fe_TotalSF\")\n",
    "\n",
    "nbhd_meds = df_tr.groupby(\"Neighborhood\")[nbhd_cols].median()\n",
    "\n",
    "for c in nbhd_cols:\n",
    "    colname = f\"fe_NbhdMed_{c}\"\n",
    "    df_tr[colname] = df_tr[\"Neighborhood\"].map(nbhd_meds[c])\n",
    "    df_te[colname] = df_te[\"Neighborhood\"].map(nbhd_meds[c])\n",
    "\n",
    "new_cols = [f\"fe_NbhdMed_{c}\" for c in nbhd_cols]\n",
    "fe_cols += new_cols\n",
    "pd.DataFrame({\"added_nbhd_medians\": [new_cols]})"
   ]
  },
  {
   "cell_type": "code",
   "execution_count": 8,
   "metadata": {},
   "outputs": [
    {
     "data": {
      "text/html": [
       "<div>\n",
       "<style scoped>\n",
       "    .dataframe tbody tr th:only-of-type {\n",
       "        vertical-align: middle;\n",
       "    }\n",
       "\n",
       "    .dataframe tbody tr th {\n",
       "        vertical-align: top;\n",
       "    }\n",
       "\n",
       "    .dataframe thead th {\n",
       "        text-align: right;\n",
       "    }\n",
       "</style>\n",
       "<table border=\"1\" class=\"dataframe\">\n",
       "  <thead>\n",
       "    <tr style=\"text-align: right;\">\n",
       "      <th></th>\n",
       "      <th>added_interactions</th>\n",
       "    </tr>\n",
       "  </thead>\n",
       "  <tbody>\n",
       "    <tr>\n",
       "      <th>0</th>\n",
       "      <td>[int_OQual_x_GrLiv, int_OQual_x_TotalSF, int_T...</td>\n",
       "    </tr>\n",
       "  </tbody>\n",
       "</table>\n",
       "</div>"
      ],
      "text/plain": [
       "                                  added_interactions\n",
       "0  [int_OQual_x_GrLiv, int_OQual_x_TotalSF, int_T..."
      ]
     },
     "execution_count": 8,
     "metadata": {},
     "output_type": "execute_result"
    }
   ],
   "source": [
    "# 8) Compact interaction shortlist\n",
    "df_tr[\"int_OQual_x_GrLiv\"]  = df_tr[\"OverallQual\"] * df_tr[\"GrLivArea\"]\n",
    "df_te[\"int_OQual_x_GrLiv\"]  = df_te[\"OverallQual\"] * df_te[\"GrLivArea\"]\n",
    "\n",
    "df_tr[\"int_OQual_x_TotalSF\"] = df_tr[\"OverallQual\"] * df_tr[\"fe_TotalSF\"]\n",
    "df_te[\"int_OQual_x_TotalSF\"] = df_te[\"OverallQual\"] * df_te[\"fe_TotalSF\"]\n",
    "\n",
    "df_tr[\"int_TotalBaths_x_Beds\"] = df_tr[\"fe_TotalBaths\"] * df_tr[\"BedroomAbvGr\"]\n",
    "df_te[\"int_TotalBaths_x_Beds\"] = df_te[\"fe_TotalBaths\"] * df_te[\"BedroomAbvGr\"]\n",
    "\n",
    "df_tr[\"int_GarCars_x_GarArea\"] = df_tr[\"GarageCars\"] * df_tr[\"GarageArea\"]\n",
    "df_te[\"int_GarCars_x_GarArea\"] = df_te[\"GarageCars\"] * df_te[\"GarageArea\"]\n",
    "\n",
    "new_cols = [\"int_OQual_x_GrLiv\",\"int_OQual_x_TotalSF\",\"int_TotalBaths_x_Beds\",\"int_GarCars_x_GarArea\"]\n",
    "fe_cols += new_cols\n",
    "pd.DataFrame({\"added_interactions\": [new_cols]})"
   ]
  },
  {
   "cell_type": "code",
   "execution_count": 9,
   "metadata": {},
   "outputs": [
    {
     "data": {
      "text/plain": [
       "n_engineered_cols                                                        34\n",
       "sample_engineered_cols    [fe_TotalSF, fe_TotalPorchSF, fe_TotalBaths, f...\n",
       "dtype: object"
      ]
     },
     "execution_count": 9,
     "metadata": {},
     "output_type": "execute_result"
    }
   ],
   "source": [
    "# 9) Safety pass: finite values, types, cardinality snapshot\n",
    "ratio_cols = [\"fe_AboveVsBasement\",\"fe_FirstVsSecond\",\"fe_GarageCarsPer100SF\"]\n",
    "for df in (df_tr, df_te):\n",
    "    df[ratio_cols] = df[ratio_cols].replace([np.inf, -np.inf], np.nan).fillna(0)\n",
    "\n",
    "# cast flags to int\n",
    "flag_cols = [c for c in df_tr.columns if c.startswith(\"bin_\")]\n",
    "df_tr[flag_cols] = df_tr[flag_cols].astype(\"int\")\n",
    "df_te[flag_cols] = df_te[flag_cols].astype(\"int\")\n",
    "\n",
    "# ensure engineered categoricals are 'category'\n",
    "cat_new = [\"comb_Season\",\"comb_ExteriorSet\"]\n",
    "for c in cat_new:\n",
    "    if c in df_tr.columns:\n",
    "        df_tr[c] = df_tr[c].astype(\"category\")\n",
    "        df_te[c] = df_te[c].astype(\"category\")\n",
    "\n",
    "# quick summary of what we added\n",
    "pd.Series({\n",
    "    \"n_engineered_cols\": len(fe_cols),\n",
    "    \"sample_engineered_cols\": fe_cols[:12]\n",
    "})"
   ]
  },
  {
   "cell_type": "code",
   "execution_count": 10,
   "metadata": {},
   "outputs": [
    {
     "data": {
      "text/html": [
       "<div>\n",
       "<style scoped>\n",
       "    .dataframe tbody tr th:only-of-type {\n",
       "        vertical-align: middle;\n",
       "    }\n",
       "\n",
       "    .dataframe tbody tr th {\n",
       "        vertical-align: top;\n",
       "    }\n",
       "\n",
       "    .dataframe thead th {\n",
       "        text-align: right;\n",
       "    }\n",
       "</style>\n",
       "<table border=\"1\" class=\"dataframe\">\n",
       "  <thead>\n",
       "    <tr style=\"text-align: right;\">\n",
       "      <th></th>\n",
       "      <th>train_feat_shape</th>\n",
       "      <th>test_feat_shape</th>\n",
       "      <th>meta_file</th>\n",
       "    </tr>\n",
       "  </thead>\n",
       "  <tbody>\n",
       "    <tr>\n",
       "      <th>0</th>\n",
       "      <td>(1458, 117)</td>\n",
       "      <td>(1459, 117)</td>\n",
       "      <td>../data/processed/hp_clean_meta_v02.json</td>\n",
       "    </tr>\n",
       "  </tbody>\n",
       "</table>\n",
       "</div>"
      ],
      "text/plain": [
       "  train_feat_shape test_feat_shape                                 meta_file\n",
       "0      (1458, 117)     (1459, 117)  ../data/processed/hp_clean_meta_v02.json"
      ]
     },
     "execution_count": 10,
     "metadata": {},
     "output_type": "execute_result"
    }
   ],
   "source": [
    "# 10) Update metadata & persist feature-engineered datasets\n",
    "# categorize engineered columns by type\n",
    "engineered_binary = flag_cols\n",
    "engineered_nominal = [c for c in [\"comb_Season\",\"comb_ExteriorSet\"] if c in df_tr.columns]\n",
    "engineered_continuous = sorted(list(set(fe_cols) - set(engineered_binary) - set(engineered_nominal)))\n",
    "engineered_interactions = [c for c in fe_cols if c.startswith(\"int_\")]\n",
    "\n",
    "# update meta lists (non-destructive)\n",
    "meta.update({\n",
    "    \"engineered_binary\": engineered_binary,\n",
    "    \"engineered_nominal\": engineered_nominal,\n",
    "    \"engineered_continuous\": engineered_continuous,\n",
    "    \"engineered_interactions\": engineered_interactions,\n",
    "})\n",
    "\n",
    "with open(PROCESSED_DIR / \"hp_clean_meta_v02.json\", \"w\") as f:\n",
    "    json.dump(meta, f, indent=2)\n",
    "\n",
    "# save FE outputs (unscaled, unencoded, no power/log)\n",
    "df_tr.to_parquet(PROCESSED_DIR / \"hp_train_feat_v01.parquet\", index=False)\n",
    "df_te.to_parquet(PROCESSED_DIR / \"hp_test_feat_v01.parquet\", index=False)\n",
    "\n",
    "pd.DataFrame({\n",
    "    \"train_feat_shape\":[df_tr.shape],\n",
    "    \"test_feat_shape\":[df_te.shape],\n",
    "    \"meta_file\":[str(PROCESSED_DIR / \"hp_clean_meta_v02.json\")]\n",
    "})"
   ]
  },
  {
   "cell_type": "markdown",
   "metadata": {},
   "source": [
    "# Section B"
   ]
  },
  {
   "cell_type": "code",
   "execution_count": 1,
   "metadata": {},
   "outputs": [
    {
     "data": {
      "text/html": [
       "<div>\n",
       "<style scoped>\n",
       "    .dataframe tbody tr th:only-of-type {\n",
       "        vertical-align: middle;\n",
       "    }\n",
       "\n",
       "    .dataframe tbody tr th {\n",
       "        vertical-align: top;\n",
       "    }\n",
       "\n",
       "    .dataframe thead th {\n",
       "        text-align: right;\n",
       "    }\n",
       "</style>\n",
       "<table border=\"1\" class=\"dataframe\">\n",
       "  <thead>\n",
       "    <tr style=\"text-align: right;\">\n",
       "      <th></th>\n",
       "      <th>train_shape</th>\n",
       "      <th>test_shape</th>\n",
       "    </tr>\n",
       "  </thead>\n",
       "  <tbody>\n",
       "    <tr>\n",
       "      <th>0</th>\n",
       "      <td>(1458, 117)</td>\n",
       "      <td>(1459, 117)</td>\n",
       "    </tr>\n",
       "  </tbody>\n",
       "</table>\n",
       "</div>"
      ],
      "text/plain": [
       "   train_shape   test_shape\n",
       "0  (1458, 117)  (1459, 117)"
      ]
     },
     "execution_count": 1,
     "metadata": {},
     "output_type": "execute_result"
    }
   ],
   "source": [
    "# 1) Setup: paths, load v01 features/meta/folds\n",
    "import numpy as np, pandas as pd, json\n",
    "from pathlib import Path\n",
    "from sklearn.cluster import KMeans\n",
    "import warnings; warnings.filterwarnings(\"ignore\")\n",
    "\n",
    "DATA_DIR = Path(\"../data/\")\n",
    "PROCESSED_DIR = DATA_DIR / \"processed\"\n",
    "PROCESSED_DIR.mkdir(parents=True, exist_ok=True)\n",
    "\n",
    "df_tr = pd.read_parquet(PROCESSED_DIR / \"hp_train_feat_v01.parquet\")\n",
    "df_te = pd.read_parquet(PROCESSED_DIR / \"hp_test_feat_v01.parquet\")\n",
    "\n",
    "with open(PROCESSED_DIR / \"hp_clean_meta_v02.json\",\"r\") as f:\n",
    "    meta = json.load(f)\n",
    "\n",
    "folds = pd.read_csv(PROCESSED_DIR / \"cv_folds_selected.csv\")\n",
    "fold = folds[\"fold\"].values\n",
    "\n",
    "id_col = \"Id\"\n",
    "target_col = \"SalePrice\"\n",
    "\n",
    "pd.DataFrame({\"train_shape\":[df_tr.shape], \"test_shape\":[df_te.shape]})"
   ]
  },
  {
   "cell_type": "code",
   "execution_count": 2,
   "metadata": {},
   "outputs": [
    {
     "data": {
      "text/plain": [
       "has_TotalSF    True\n",
       "y_log_ready    True\n",
       "dtype: bool"
      ]
     },
     "execution_count": 2,
     "metadata": {},
     "output_type": "execute_result"
    }
   ],
   "source": [
    "# 2) Ensure base columns exist + helpful composites (TotalSF)\n",
    "# TotalSF = TotalBsmtSF + 1stFlrSF + 2ndFlrSF (add if missing)\n",
    "for df in (df_tr, df_te):\n",
    "    if \"TotalSF\" not in df.columns:\n",
    "        cols = [c for c in [\"TotalBsmtSF\",\"1stFlrSF\",\"2ndFlrSF\"] if c in df.columns]\n",
    "        df[\"TotalSF\"] = df[cols].sum(axis=1)\n",
    "\n",
    "# Keep a copy of y on log scale for CV-safe encodings\n",
    "y_log = np.log1p(df_tr[target_col])\n",
    "\n",
    "pd.Series({\"has_TotalSF\": \"TotalSF\" in df_tr.columns, \"y_log_ready\": True})"
   ]
  },
  {
   "cell_type": "code",
   "execution_count": 4,
   "metadata": {},
   "outputs": [
    {
     "data": {
      "text/plain": [
       "train_nulls         0.000000\n",
       "test_nulls          0.000000\n",
       "global_mean_log    12.024015\n",
       "dtype: float64"
      ]
     },
     "execution_count": 4,
     "metadata": {},
     "output_type": "execute_result"
    }
   ],
   "source": [
    "# 3) Neighborhood target mean encoding (CV-safe for TRAIN; full-train map for TEST)\n",
    "# Column to create: Nbhd_TgtMean_Log_v2\n",
    "# Fallback to global mean if a neighborhood is unseen.\n",
    "\n",
    "nbhd_col = \"Neighborhood\"\n",
    "y_log = np.log1p(df_tr[target_col])\n",
    "global_mean = float(y_log.mean())\n",
    "\n",
    "# Preallocate OOF array, fill per-fold, then assign once (avoids LossySetitemError)\n",
    "oof_nbhd_mean = np.full(len(df_tr), np.nan, dtype=np.float64)\n",
    "\n",
    "for k in np.unique(fold):\n",
    "    tr_idx = np.where(fold != k)[0]\n",
    "    va_idx = np.where(fold == k)[0]\n",
    "\n",
    "    # map from train part of the fold\n",
    "    map_k = (\n",
    "        df_tr.iloc[tr_idx]\n",
    "            .groupby(nbhd_col)[target_col]\n",
    "            .apply(lambda s: np.log1p(s).mean())\n",
    "    )\n",
    "\n",
    "    mapped = (\n",
    "        df_tr.loc[va_idx, nbhd_col]\n",
    "            .map(map_k)\n",
    "            .astype(\"float64\")          # ensure float, allow NaN\n",
    "            .to_numpy()\n",
    "    )\n",
    "    oof_nbhd_mean[va_idx] = mapped\n",
    "\n",
    "# fill unseen neighborhoods with global mean and assign once\n",
    "oof_nbhd_mean = np.where(np.isnan(oof_nbhd_mean), global_mean, oof_nbhd_mean)\n",
    "df_tr = df_tr.copy()  # be explicit under CoW\n",
    "df_tr[\"Nbhd_TgtMean_Log_v2\"] = oof_nbhd_mean\n",
    "\n",
    "# TEST side: full-train map (no leakage; test has no labels)\n",
    "map_full = (\n",
    "    df_tr.groupby(nbhd_col)[target_col]\n",
    "        .apply(lambda s: np.log1p(s).mean())\n",
    ")\n",
    "df_te[\"Nbhd_TgtMean_Log_v2\"] = (\n",
    "    df_te[nbhd_col].map(map_full).astype(\"float64\").fillna(global_mean)\n",
    ")\n",
    "\n",
    "pd.Series({\n",
    "    \"train_nulls\": int(np.isnan(oof_nbhd_mean).sum()),\n",
    "    \"test_nulls\": int(df_te[\"Nbhd_TgtMean_Log_v2\"].isna().sum()),\n",
    "    \"global_mean_log\": global_mean,\n",
    "})"
   ]
  },
  {
   "cell_type": "code",
   "execution_count": 5,
   "metadata": {},
   "outputs": [
    {
     "data": {
      "text/html": [
       "<div>\n",
       "<style scoped>\n",
       "    .dataframe tbody tr th:only-of-type {\n",
       "        vertical-align: middle;\n",
       "    }\n",
       "\n",
       "    .dataframe tbody tr th {\n",
       "        vertical-align: top;\n",
       "    }\n",
       "\n",
       "    .dataframe thead th {\n",
       "        text-align: right;\n",
       "    }\n",
       "</style>\n",
       "<table border=\"1\" class=\"dataframe\">\n",
       "  <thead>\n",
       "    <tr style=\"text-align: right;\">\n",
       "      <th></th>\n",
       "      <th>new_numeric</th>\n",
       "    </tr>\n",
       "  </thead>\n",
       "  <tbody>\n",
       "    <tr>\n",
       "      <th>0</th>\n",
       "      <td>[TotalSF_log1p_v2, Qual_x_NbhdPrem_v2, LogTota...</td>\n",
       "    </tr>\n",
       "  </tbody>\n",
       "</table>\n",
       "</div>"
      ],
      "text/plain": [
       "                                         new_numeric\n",
       "0  [TotalSF_log1p_v2, Qual_x_NbhdPrem_v2, LogTota..."
      ]
     },
     "execution_count": 5,
     "metadata": {},
     "output_type": "execute_result"
    }
   ],
   "source": [
    "# 4) Interaction features using the neighborhood premium (numeric)\n",
    "# - Qual_x_NbhdPrem_v2 = OverallQual * Nbhd_TgtMean_Log_v2\n",
    "# - LogTotalSF_x_NbhdPrem_v2 = log1p(TotalSF) * Nbhd_TgtMean_Log_v2\n",
    "\n",
    "for df in (df_tr, df_te):\n",
    "    df[\"TotalSF_log1p_v2\"] = np.log1p(df[\"TotalSF\"])\n",
    "    df[\"Qual_x_NbhdPrem_v2\"] = df[\"OverallQual\"] * df[\"Nbhd_TgtMean_Log_v2\"]\n",
    "    df[\"LogTotalSF_x_NbhdPrem_v2\"] = df[\"TotalSF_log1p_v2\"] * df[\"Nbhd_TgtMean_Log_v2\"]\n",
    "\n",
    "pd.DataFrame({\n",
    "    \"new_numeric\":[[\"TotalSF_log1p_v2\",\"Qual_x_NbhdPrem_v2\",\"LogTotalSF_x_NbhdPrem_v2\"]]\n",
    "})"
   ]
  },
  {
   "cell_type": "code",
   "execution_count": 7,
   "metadata": {},
   "outputs": [
    {
     "data": {
      "text/html": [
       "<div>\n",
       "<style scoped>\n",
       "    .dataframe tbody tr th:only-of-type {\n",
       "        vertical-align: middle;\n",
       "    }\n",
       "\n",
       "    .dataframe tbody tr th {\n",
       "        vertical-align: top;\n",
       "    }\n",
       "\n",
       "    .dataframe thead th {\n",
       "        text-align: right;\n",
       "    }\n",
       "</style>\n",
       "<table border=\"1\" class=\"dataframe\">\n",
       "  <thead>\n",
       "    <tr style=\"text-align: right;\">\n",
       "      <th></th>\n",
       "      <th>qual_rel_mean</th>\n",
       "      <th>sf_rel_mean</th>\n",
       "    </tr>\n",
       "  </thead>\n",
       "  <tbody>\n",
       "    <tr>\n",
       "      <th>0</th>\n",
       "      <td>1.021616</td>\n",
       "      <td>1.018291</td>\n",
       "    </tr>\n",
       "  </tbody>\n",
       "</table>\n",
       "</div>"
      ],
      "text/plain": [
       "   qual_rel_mean  sf_rel_mean\n",
       "0       1.021616     1.018291"
      ]
     },
     "execution_count": 7,
     "metadata": {},
     "output_type": "execute_result"
    }
   ],
   "source": [
    "# 5) Relative-to-neighborhood features (robust to categorical dtypes)\n",
    "# Build medians on TRAIN (feature-only stats)\n",
    "med_q  = df_tr.groupby(\"Neighborhood\")[\"OverallQual\"].median().astype(\"float64\")\n",
    "med_sf = df_tr.groupby(\"Neighborhood\")[\"TotalSF\"].median().astype(\"float64\")\n",
    "\n",
    "for df in (df_tr, df_te):\n",
    "    # map medians and cast to float\n",
    "    den_q  = df[\"Neighborhood\"].map(med_q).astype(\"float64\").replace(0.0, np.nan)\n",
    "    den_sf = df[\"Neighborhood\"].map(med_sf).astype(\"float64\").replace(0.0, np.nan)\n",
    "\n",
    "    # cast numerators to float in case anything is category/int extension dtype\n",
    "    num_q  = pd.to_numeric(df[\"OverallQual\"], errors=\"coerce\").astype(\"float64\")\n",
    "    num_sf = pd.to_numeric(df[\"TotalSF\"],     errors=\"coerce\").astype(\"float64\")\n",
    "\n",
    "    # compute ratios\n",
    "    df[\"OverallQual_relative_v2\"] = num_q  / den_q\n",
    "    df[\"TotalSF_relative_v2\"]     = num_sf / den_sf\n",
    "\n",
    "# clean infinities / missing (rare neighborhoods) → neutral value 1.0\n",
    "for df in (df_tr, df_te):\n",
    "    df[[\"OverallQual_relative_v2\",\"TotalSF_relative_v2\"]] = (\n",
    "        df[[\"OverallQual_relative_v2\",\"TotalSF_relative_v2\"]]\n",
    "        .replace([np.inf, -np.inf], np.nan)\n",
    "        .fillna(1.0)\n",
    "        .astype(\"float64\")\n",
    "    )\n",
    "\n",
    "pd.DataFrame({\n",
    "    \"qual_rel_mean\":[df_tr[\"OverallQual_relative_v2\"].mean()],\n",
    "    \"sf_rel_mean\":[df_tr[\"TotalSF_relative_v2\"].mean()]\n",
    "})"
   ]
  },
  {
   "cell_type": "code",
   "execution_count": 8,
   "metadata": {},
   "outputs": [
    {
     "data": {
      "text/html": [
       "<div>\n",
       "<style scoped>\n",
       "    .dataframe tbody tr th:only-of-type {\n",
       "        vertical-align: middle;\n",
       "    }\n",
       "\n",
       "    .dataframe tbody tr th {\n",
       "        vertical-align: top;\n",
       "    }\n",
       "\n",
       "    .dataframe thead th {\n",
       "        text-align: right;\n",
       "    }\n",
       "</style>\n",
       "<table border=\"1\" class=\"dataframe\">\n",
       "  <thead>\n",
       "    <tr style=\"text-align: right;\">\n",
       "      <th></th>\n",
       "      <th>n_levels_Nbhd_Qual</th>\n",
       "      <th>n_levels_Nbhd_Decade</th>\n",
       "    </tr>\n",
       "  </thead>\n",
       "  <tbody>\n",
       "    <tr>\n",
       "      <th>0</th>\n",
       "      <td>112</td>\n",
       "      <td>122</td>\n",
       "    </tr>\n",
       "  </tbody>\n",
       "</table>\n",
       "</div>"
      ],
      "text/plain": [
       "   n_levels_Nbhd_Qual  n_levels_Nbhd_Decade\n",
       "0                 112                   122"
      ]
     },
     "execution_count": 8,
     "metadata": {},
     "output_type": "execute_result"
    }
   ],
   "source": [
    "# 6) Categorical interactions\n",
    "# - Nbhd_Qual_cat_v2 = f\"{Neighborhood}_{OverallQual}\"\n",
    "# - YearBuiltDecade_v2 = floor(YearBuilt/10)*10\n",
    "# - Nbhd_Decade_cat_v2 = f\"{Neighborhood}_{YearBuiltDecade_v2}\"\n",
    "\n",
    "for df in (df_tr, df_te):\n",
    "    df[\"Nbhd_Qual_cat_v2\"] = df[nbhd_col].astype(str) + \"_\" + df[\"OverallQual\"].astype(str)\n",
    "    df[\"YearBuiltDecade_v2\"] = (df[\"YearBuilt\"] // 10) * 10\n",
    "    df[\"Nbhd_Decade_cat_v2\"] = df[nbhd_col].astype(str) + \"_\" + df[\"YearBuiltDecade_v2\"].astype(str)\n",
    "\n",
    "# (optional) cast to 'category' now; CSV will not preserve dtype but helps in memory during work\n",
    "for df in (df_tr, df_te):\n",
    "    df[\"Nbhd_Qual_cat_v2\"]   = df[\"Nbhd_Qual_cat_v2\"].astype(\"category\")\n",
    "    df[\"Nbhd_Decade_cat_v2\"] = df[\"Nbhd_Decade_cat_v2\"].astype(\"category\")\n",
    "\n",
    "pd.DataFrame({\n",
    "    \"n_levels_Nbhd_Qual\":[df_tr[\"Nbhd_Qual_cat_v2\"].nunique()],\n",
    "    \"n_levels_Nbhd_Decade\":[df_tr[\"Nbhd_Decade_cat_v2\"].nunique()]\n",
    "})"
   ]
  },
  {
   "cell_type": "code",
   "execution_count": 9,
   "metadata": {},
   "outputs": [
    {
     "data": {
      "text/html": [
       "<div>\n",
       "<style scoped>\n",
       "    .dataframe tbody tr th:only-of-type {\n",
       "        vertical-align: middle;\n",
       "    }\n",
       "\n",
       "    .dataframe tbody tr th {\n",
       "        vertical-align: top;\n",
       "    }\n",
       "\n",
       "    .dataframe thead th {\n",
       "        text-align: right;\n",
       "    }\n",
       "</style>\n",
       "<table border=\"1\" class=\"dataframe\">\n",
       "  <thead>\n",
       "    <tr style=\"text-align: right;\">\n",
       "      <th></th>\n",
       "      <th>clusters</th>\n",
       "    </tr>\n",
       "  </thead>\n",
       "  <tbody>\n",
       "    <tr>\n",
       "      <th>0</th>\n",
       "      <td>{1: 7, 2: 7, 0: 6, 3: 4}</td>\n",
       "    </tr>\n",
       "  </tbody>\n",
       "</table>\n",
       "</div>"
      ],
      "text/plain": [
       "                   clusters\n",
       "0  {1: 7, 2: 7, 0: 6, 3: 4}"
      ]
     },
     "execution_count": 9,
     "metadata": {},
     "output_type": "execute_result"
    }
   ],
   "source": [
    "# 7) Neighborhood clusters (feature-only stats; safe)\n",
    "# Cluster neighborhoods by (median OverallQual, median TotalSF, median YearBuilt)\n",
    "feat_nbhd = (\n",
    "    df_tr.groupby(nbhd_col)\n",
    "    .agg(med_qual=(\"OverallQual\",\"median\"),\n",
    "         med_sf=(\"TotalSF\",\"median\"),\n",
    "         med_year=(\"YearBuilt\",\"median\"))\n",
    "    .reset_index()\n",
    ")\n",
    "\n",
    "kmeans = KMeans(n_clusters=4, random_state=42, n_init=\"auto\")\n",
    "feat_nbhd[\"NbhdCluster4_v2\"] = kmeans.fit_predict(feat_nbhd[[\"med_qual\",\"med_sf\",\"med_year\"]])\n",
    "\n",
    "cluster_map = dict(zip(feat_nbhd[nbhd_col], feat_nbhd[\"NbhdCluster4_v2\"]))\n",
    "for df in (df_tr, df_te):\n",
    "    df[\"NbhdCluster4_v2\"] = df[nbhd_col].map(cluster_map).astype(\"Int64\")\n",
    "\n",
    "pd.DataFrame({\"clusters\":[feat_nbhd[\"NbhdCluster4_v2\"].value_counts().to_dict()]})"
   ]
  },
  {
   "cell_type": "code",
   "execution_count": 10,
   "metadata": {},
   "outputs": [
    {
     "data": {
      "text/html": [
       "<div>\n",
       "<style scoped>\n",
       "    .dataframe tbody tr th:only-of-type {\n",
       "        vertical-align: middle;\n",
       "    }\n",
       "\n",
       "    .dataframe tbody tr th {\n",
       "        vertical-align: top;\n",
       "    }\n",
       "\n",
       "    .dataframe thead th {\n",
       "        text-align: right;\n",
       "    }\n",
       "</style>\n",
       "<table border=\"1\" class=\"dataframe\">\n",
       "  <thead>\n",
       "    <tr style=\"text-align: right;\">\n",
       "      <th></th>\n",
       "      <th>lux_nbhd_rate</th>\n",
       "      <th>lux_rate</th>\n",
       "    </tr>\n",
       "  </thead>\n",
       "  <tbody>\n",
       "    <tr>\n",
       "      <th>0</th>\n",
       "      <td>0.124829</td>\n",
       "      <td>0.135117</td>\n",
       "    </tr>\n",
       "  </tbody>\n",
       "</table>\n",
       "</div>"
      ],
      "text/plain": [
       "   lux_nbhd_rate  lux_rate\n",
       "0       0.124829  0.135117"
      ]
     },
     "execution_count": 10,
     "metadata": {},
     "output_type": "execute_result"
    }
   ],
   "source": [
    "# 8) Luxury flags\n",
    "lux_set = {\"StoneBr\",\"NoRidge\",\"NridgHt\",\"Veenker\",\"ClearCr\"}\n",
    "for df in (df_tr, df_te):\n",
    "    df[\"is_luxury_nbhd_v2\"] = df[nbhd_col].isin(lux_set).astype(\"int8\")\n",
    "    df[\"is_luxury_v2\"] = ((df[\"OverallQual\"] >= 9) | df[nbhd_col].isin(lux_set)).astype(\"int8\")\n",
    "\n",
    "pd.DataFrame({\n",
    "    \"lux_nbhd_rate\":[df_tr[\"is_luxury_nbhd_v2\"].mean()],\n",
    "    \"lux_rate\":[df_tr[\"is_luxury_v2\"].mean()]\n",
    "})"
   ]
  },
  {
   "cell_type": "code",
   "execution_count": 11,
   "metadata": {},
   "outputs": [
    {
     "data": {
      "text/plain": [
       "0       TotalSF_log1p_v2\n",
       "1       LotArea_log1p_v2\n",
       "2     GrLivArea_log1p_v2\n",
       "3    BsmtFinSF1_log1p_v2\n",
       "dtype: object"
      ]
     },
     "execution_count": 11,
     "metadata": {},
     "output_type": "execute_result"
    }
   ],
   "source": [
    "# 9) Extra log transforms for skewed size features (if not already present)\n",
    "# Create *_log1p_v2 to avoid collisions\n",
    "for col in [\"LotArea\",\"GrLivArea\",\"BsmtFinSF1\"]:\n",
    "    if col in df_tr.columns:\n",
    "        for df in (df_tr, df_te):\n",
    "            df[f\"{col}_log1p_v2\"] = np.log1p(df[col])\n",
    "\n",
    "new_logs = [c for c in df_tr.columns if c.endswith(\"_log1p_v2\")]\n",
    "pd.Series(new_logs)"
   ]
  },
  {
   "cell_type": "code",
   "execution_count": 12,
   "metadata": {},
   "outputs": [
    {
     "data": {
      "text/html": [
       "<div>\n",
       "<style scoped>\n",
       "    .dataframe tbody tr th:only-of-type {\n",
       "        vertical-align: middle;\n",
       "    }\n",
       "\n",
       "    .dataframe tbody tr th {\n",
       "        vertical-align: top;\n",
       "    }\n",
       "\n",
       "    .dataframe thead th {\n",
       "        text-align: right;\n",
       "    }\n",
       "</style>\n",
       "<table border=\"1\" class=\"dataframe\">\n",
       "  <thead>\n",
       "    <tr style=\"text-align: right;\">\n",
       "      <th></th>\n",
       "      <th>engineered_cont_v2</th>\n",
       "      <th>engineered_nominal_v2</th>\n",
       "      <th>engineered_binary_v2</th>\n",
       "    </tr>\n",
       "  </thead>\n",
       "  <tbody>\n",
       "    <tr>\n",
       "      <th>0</th>\n",
       "      <td>[Nbhd_TgtMean_Log_v2, TotalSF_log1p_v2, Qual_x...</td>\n",
       "      <td>[Nbhd_Qual_cat_v2, Nbhd_Decade_cat_v2, NbhdClu...</td>\n",
       "      <td>[is_luxury_nbhd_v2, is_luxury_v2]</td>\n",
       "    </tr>\n",
       "  </tbody>\n",
       "</table>\n",
       "</div>"
      ],
      "text/plain": [
       "                                  engineered_cont_v2  \\\n",
       "0  [Nbhd_TgtMean_Log_v2, TotalSF_log1p_v2, Qual_x...   \n",
       "\n",
       "                               engineered_nominal_v2  \\\n",
       "0  [Nbhd_Qual_cat_v2, Nbhd_Decade_cat_v2, NbhdClu...   \n",
       "\n",
       "                engineered_binary_v2  \n",
       "0  [is_luxury_nbhd_v2, is_luxury_v2]  "
      ]
     },
     "execution_count": 12,
     "metadata": {},
     "output_type": "execute_result"
    }
   ],
   "source": [
    "# 10) Assemble lists of newly engineered features for metadata\n",
    "engineered_cont_v2 = [\n",
    "    \"Nbhd_TgtMean_Log_v2\",\n",
    "    \"TotalSF_log1p_v2\",\n",
    "    \"Qual_x_NbhdPrem_v2\",\n",
    "    \"LogTotalSF_x_NbhdPrem_v2\",\n",
    "    \"OverallQual_relative_v2\",\n",
    "    \"TotalSF_relative_v2\",\n",
    "] + new_logs\n",
    "\n",
    "engineered_nominal_v2 = [\n",
    "    \"Nbhd_Qual_cat_v2\",\n",
    "    \"Nbhd_Decade_cat_v2\",\n",
    "    \"NbhdCluster4_v2\",\n",
    "]\n",
    "\n",
    "engineered_binary_v2 = [\n",
    "    \"is_luxury_nbhd_v2\",\n",
    "    \"is_luxury_v2\",\n",
    "]\n",
    "\n",
    "pd.DataFrame({\n",
    "    \"engineered_cont_v2\":[engineered_cont_v2],\n",
    "    \"engineered_nominal_v2\":[engineered_nominal_v2],\n",
    "    \"engineered_binary_v2\":[engineered_binary_v2],\n",
    "})"
   ]
  },
  {
   "cell_type": "code",
   "execution_count": 13,
   "metadata": {},
   "outputs": [
    {
     "data": {
      "text/html": [
       "<div>\n",
       "<style scoped>\n",
       "    .dataframe tbody tr th:only-of-type {\n",
       "        vertical-align: middle;\n",
       "    }\n",
       "\n",
       "    .dataframe tbody tr th {\n",
       "        vertical-align: top;\n",
       "    }\n",
       "\n",
       "    .dataframe thead th {\n",
       "        text-align: right;\n",
       "    }\n",
       "</style>\n",
       "<table border=\"1\" class=\"dataframe\">\n",
       "  <thead>\n",
       "    <tr style=\"text-align: right;\">\n",
       "      <th></th>\n",
       "      <th>saved_train_v2</th>\n",
       "      <th>saved_test_v2</th>\n",
       "    </tr>\n",
       "  </thead>\n",
       "  <tbody>\n",
       "    <tr>\n",
       "      <th>0</th>\n",
       "      <td>../data/processed/hp_train_feat_v02.csv</td>\n",
       "      <td>../data/processed/hp_test_feat_v02.csv</td>\n",
       "    </tr>\n",
       "  </tbody>\n",
       "</table>\n",
       "</div>"
      ],
      "text/plain": [
       "                            saved_train_v2  \\\n",
       "0  ../data/processed/hp_train_feat_v02.csv   \n",
       "\n",
       "                            saved_test_v2  \n",
       "0  ../data/processed/hp_test_feat_v02.csv  "
      ]
     },
     "execution_count": 13,
     "metadata": {},
     "output_type": "execute_result"
    }
   ],
   "source": [
    "# 11) Save v2 CSVs (train/test) with the new features appended\n",
    "train_v2_path = PROCESSED_DIR / \"hp_train_feat_v02.csv\"\n",
    "test_v2_path  = PROCESSED_DIR / \"hp_test_feat_v02.csv\"\n",
    "\n",
    "df_tr.to_csv(train_v2_path, index=False)\n",
    "df_te.to_csv(test_v2_path, index=False)\n",
    "\n",
    "pd.DataFrame({\"saved_train_v2\":[str(train_v2_path)], \"saved_test_v2\":[str(test_v2_path)]})"
   ]
  },
  {
   "cell_type": "code",
   "execution_count": 14,
   "metadata": {},
   "outputs": [
    {
     "data": {
      "text/plain": [
       "saved_meta    ../data/processed/hp_clean_meta_v03.json\n",
       "dtype: object"
      ]
     },
     "execution_count": 14,
     "metadata": {},
     "output_type": "execute_result"
    }
   ],
   "source": [
    "# 12) Update metadata → hp_clean_meta_v03.json (append v2 features)\n",
    "meta_v03 = dict(meta)  # copy previous\n",
    "meta_v03[\"engineered_continuous\"] = sorted(list(set(meta.get(\"engineered_continuous\", []) + engineered_cont_v2)))\n",
    "meta_v03[\"engineered_nominal\"]    = sorted(list(set(meta.get(\"engineered_nominal\", [])    + engineered_nominal_v2)))\n",
    "meta_v03[\"engineered_binary\"]     = sorted(list(set(meta.get(\"engineered_binary\", [])     + engineered_binary_v2)))\n",
    "meta_v03[\"feature_version\"]       = \"v02\"\n",
    "meta_v03[\"folds_file\"]            = str(PROCESSED_DIR / \"cv_folds_selected.csv\")\n",
    "meta_v03_path = PROCESSED_DIR / \"hp_clean_meta_v03.json\"\n",
    "\n",
    "with open(meta_v03_path, \"w\") as f:\n",
    "    json.dump(meta_v03, f, indent=2)\n",
    "\n",
    "pd.Series({\"saved_meta\": str(meta_v03_path)})"
   ]
  },
  {
   "cell_type": "code",
   "execution_count": null,
   "metadata": {},
   "outputs": [],
   "source": []
  }
 ],
 "metadata": {
  "kernelspec": {
   "display_name": "DS",
   "language": "python",
   "name": "python3"
  },
  "language_info": {
   "codemirror_mode": {
    "name": "ipython",
    "version": 3
   },
   "file_extension": ".py",
   "mimetype": "text/x-python",
   "name": "python",
   "nbconvert_exporter": "python",
   "pygments_lexer": "ipython3",
   "version": "3.12.11"
  }
 },
 "nbformat": 4,
 "nbformat_minor": 2
}
